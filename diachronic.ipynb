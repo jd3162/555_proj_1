{
 "cells": [
  {
   "cell_type": "code",
   "execution_count": 6,
   "metadata": {},
   "outputs": [],
   "source": [
    "from nltk import TreebankWordTokenizer\n",
    "import gensim\n",
    "from gensim.models import Word2Vec \n",
    "from bs4 import BeautifulSoup"
   ]
  },
  {
   "cell_type": "code",
   "execution_count": 41,
   "metadata": {},
   "outputs": [],
   "source": [
    "#word2vec needs list of lists, so I'm going to open 2 files\n",
    "\n",
    "with open(\"/home/josh/Documents/a-library-nlp-project/theanarchistlibrary.org/library/zvonimir-kontrec-architecture-is-a-political-act.html\", \"r\") as file:\n",
    "    html = file.read()\n",
    "soup = BeautifulSoup(html, \"html.parser\")\n",
    "with open(\"/home/josh/Documents/a-library-nlp-project/theanarchistlibrary.org/library/zundlumpen-will-o-the-wisps.html\", \"r\") as file:\n",
    "    html2 = file.read()\n",
    "soup2 = BeautifulSoup(html2, \"html.parser\")"
   ]
  },
  {
   "cell_type": "code",
   "execution_count": 42,
   "metadata": {},
   "outputs": [],
   "source": [
    "#convert html to text\n",
    "first_small_doc = soup.get_text()\n",
    "second_small_doc = soup2.get_text()"
   ]
  },
  {
   "cell_type": "code",
   "execution_count": 43,
   "metadata": {},
   "outputs": [
    {
     "name": "stdout",
     "output_type": "stream",
     "text": [
      "\n",
      "\n",
      "\n",
      "\n",
      "\n",
      "Will-O'-The-Wisps\n",
      "\n",
      "\n",
      "\n",
      "\n",
      "Zündlumpen\n",
      "Will-O'-The-Wisps\n",
      "about my dissatisfaction with some tendencies and perspectives in the anti-civilizational debate\n",
      "February 7, 2021\n",
      "\n",
      "      I\n",
      "      II\n",
      "      III\n",
      "      IV\n",
      "      V\n",
      "\n",
      "\n",
      "\n",
      "In the twilight, I stand on the edge of a gigantic bog. I cannot see what lies on the other side, behind me stretches the backdrop of the techno-industrial civilization with its factories, roads, rails, radio masts, and, above all, its cornfields, commercial forests, and meadows of fodder clover monitored and controlled by drones. But why look back? The much more relevant question is: How do I get through this bog? I've heard countless stories from people who tried before me to cross this moor to escape civilization from behind. There were those who decided to drain part of the moor in order to live there beyond the realms of civilization. They dug drainage ditches and built a monastery on this piece of land. But before they could feel the cold stone walls of this monastery as restrictive, they found themselves - as if by magic, didn't they? - in the midst of the civilized world again. It had simply expanded to the land that the drainage ditches had made and taken possession of it. And a short time later there was nothing to remind you that this piece of land had been outside the walls of civilization just a short time ago. But it is hardly worth talking about these people. At most as a short anecdote. Instead, I want to turn my gaze to those who have dared to venture out on the secret paths through the moor. On the dangerous and dark paths on which one is easily tempted to follow the glow of a tiny light that all too often has turned out to be a will-o'-the-wisp. And when I tell the stories of those who are said to have lost their way, it is not to rise above them, but rather to help myself choose my own paths through this moor.\n",
      "\n",
      "I\n",
      "\n",
      "I recently read a pamphlet with the rather programmatic title \"Anarchism vs. Primitivsm,” a translation of a text by Brian Oliver Sheppard from 2003. Not Sheppard's only text on \"primitivism\" and also not Sheppard's only text with such a programmatic title. Before it was all of anarchism, which Sheppard argued against primitivism, Bakunin had to serve the same purpose. In an effusion with the almost equally epic title as that of a pop culture trash film called \"Cowboys vs. Aliens\", namely \"Bakunin vs. the Primitivists\" from the year 2000. I thought about writing a reply to Brian Oliver Sheppard's text not because I am a supporter of the \"primitivism\" he criticizes (whatever that is supposed to be according to his definition), but because his criticism does not actually criticize \"primitivism\", but rather any anti-civilizational thinking. But in the end, a text that works on such criticism is perhaps not worth the paper on which it is written. Why enter a debate in which everything is lumped together from the start? A debate in which \"primitivism\" appears mainly as a counter-construction to the syndicalism advocated by Sheppard. A debate in which it seems to be less about dealing with certain positions and discussing them, but rather about forming fronts (the \"anarchists\" on the one hand and the \"primitivists\" on the other) and delegitimizing certain positions on the basis of as polarizing as possible - often out of context - quotations. No, this debate will get me nowhere and probably no one else either. And yet it often seems to be debates of this kind that - not only - prevail in the German-speaking context when anti-civilizational perspectives are discussed.\n",
      "\n",
      "\n",
      "In my assessment, all these debates, which for obvious reasons choose \"primitivism\" as the enemy, are so uninteresting for the (further) development of anti-civilizational positions because behind them there is a dogmatic pro-civilizationism that accordingly adopts rubs the (at least as perceived) dogmatic anti-civilizational positions. Sheppard's text is no exception. At the beginning of his article, he begins with a collection of quotes - supposedly representative of primitivism - discussing the effects of the introduction of electricity in different regions. It seems to him that the view that electricity is not exactly found to be positive is so strange and absurd that the only argument he tries to support his contradicting point of view is to use the \"lack of electricity\" as \"Characteristics of Poverty“ and consequently to imply that everyone who sees electricity differently must support poverty - a term that only makes sense in the context of property and, above all, in the generally comparable context of civilization. If Sheppard does not seem to be interested in elaborating an alternative criticism of civilization and - in this example - electricity, but instead a more or less formulated criticism of electricity - even though he falsifies the lines of argument at best - simply an endorsement of electricity as an achievement, as progress, so to speak - to what extent can his attitude then be understood as anti-civilizational at all? Which he probably wouldn't say himself at all. But even further, when Sheppard in the introduction of his text quotes the anarcho-syndicalist Sam Dolgoff, who cannot bear the fact that someone “always went barefoot, [ate] raw food, mostly nuts and raisins, and [refused] a tractor because he was against machines and did not want to abuse horses [and] thus [himself] [digging up] the earth \"and accordingly comes to the conclusion that\" such self-proclaimed anarchists are really 'ox-cart anarchists' [ were] who opposed the organization and wanted to return to a simple life.” Can one even speak of dealing with an anarchist text here? Certainly one can understand that one or the other a certain frustration builds up again and again about the fact that others are not following their own analyzes or not sharing the same path that one believes will lead to revolution or elimination that might lead to dominion or wherever. But if someone \"opposes the organization\" and you do it with such harsh words - and of course I am not concerned with the words themselves…\n",
      "\n",
      "II\n",
      "\n",
      "What can (historical) science tell me about the pre-civilizing or also extra-civilizing life of people? Personally, I take the view of Fredy Perlman that the story, his story, always was that of Leviathan, is and will have been. Historiography always tries to abstract a narrative that is always told from a certain perspective and usually also at most from a handful of people and derive general validities from it. This not only denies the individuals about whom a narrative is about - a process in which Leviathan always comes in handy - but also implies, among other things, which stories are (can) be told and which are not.\n",
      "\n",
      "\n",
      "I want to illustrate this with a number of examples: If one looks at Leviathan's recent history, of which there are quite a number of contemporary written records from several individuals, let's say, for example, the era of National Socialism, an epoch that was just 75 years ago and yet we will fail to tell the stories of so many people ... But there are diaries, files, eyewitness reports, and much more, some may object. Sure, but whose diaries are our priority today? Who dared to keep a diary anyway? For who was it materially possible - for example because they had access to paper and ink, or because they could write at all - to keep a diary? Who hasn't burned their diaries out of fear at some point? Who hasn't lost them on the run? Whose diaries ended up in archives, whose diaries were disposed of by a relative after their death, who had any relatives who could have looked after their estate? And the files? What should a file say about a person? She alone is a testimony of a man's administration. To believe that something else could be gained from it seems to me naive at best, and at worst to be an endorsement of the state logic of people as entities to be administered. And the eyewitness accounts? What if there weren't any witnesses? What if none of the eyewitnesses survived? What if the eyewitnesses persistently keep silent?\n",
      "\n",
      "\n",
      "Other examples that are similarly obvious would be the Soviet Russian era, the Inquisition, the colonization of America, etc. But even if these examples show particularly clearly that it is ultimately the Leviathan's stories that can (still) be told today, even if one may occasionally tell them in a critical tone, the following applies to every epoch in which people lived whose stories historians will not tell. Be it because they don't want it or because they can't.\n",
      "\n",
      "\n",
      "And the further back an epoch is, or the less it has been handed down, the fewer stories can be told from it that are not Leviathan. Archeology, for example, often draws its findings from grave goods. I may be forgiven - or resented - my amateurish presentation and possibly also my \"ignorance\" in this regard - but I do not think that one can conclude from the fact that arrowheads were found in a grave, for example, that the Buried comes from a warrior culture. Sure, maybe these arrowheads were once buried with the corpse as grave goods and were meant to express something that can be described as warrior culture. Or maybe the person in the grave was simply shot with multiple arrows and at the funeral, nobody bothered to remove the arrows - or just the tips - beforehand. Perhaps the arrowheads were also placed in the grave, but more because the person buried in his community was more of a nerd who had a gun or arrowhead obsession and these were his favorites. Or you put them in the grave because you thought that someday some grave robbers would come along and make some speculations and then you thought it was just funny to let them ponder on arrowheads. Or, or, or. In short: don't historians often simply project what they know from their epoch - or sometimes any longings - into other epochs? And not just the historians. Isn't it the whole of history/archeology/anthropology that can only make statements about its subject against the background of its own epoch?\n",
      "\n",
      "III\n",
      "\n",
      "In the search for the origins of civilization, as well as in the search for examples of a life liberated from it, the attention of many anti-civilizational debates is directed to so-called primitive communities, i.e. communities outside civilization - and also to those that existed before their emergence, as well as those who were able to oppose their grip on their margins up to today or into the last centuries. It is above all the sources of science from which the stories about various primitive societies are drawn, especially the disciplines of archeology and anthropology. But with the stories, another concept of science seems to have found its way into their interpretation: the need to systematize these stories, to bring them into harmony with one another and in the process to create a universal narrative of the primitive, which is often even called must serve as a template for its own utopia of a coexistence liberated from civilization.\n",
      "\n",
      "\n",
      "I have already stated that, in my opinion, such a process constitutes Leviathan history. Here I would like to shed light on another effect that seems closely related to this process, but develops its own dynamic: the emergence of a utopia (and ideology?) Of a uniform, \"primitive\" way of life, which becomes the blueprint of every thought game of a non-civilized life and as such seems to favor tendencies towards organized transformation rather than chaotic destruction.\n",
      "\n",
      "\n",
      "At the beginning of this process, there is the eradication of the uniqueness of every (primitive) community and every (primitive) individual. Perhaps this is because the term primitive itself was initially coined by civilized people as a counter-construction and with the term, possibly more of this original concept of thought found its way into the thinking of the enemies of civilization than one would like. In any case, this term unites the most diverse communities and individuals whose way of life could hardly be more different. What seems to serve a certain (albeit abstracting and scientific) purpose in the search for commonalities between those who lead a life that did not produce any civilizing institutions, loses it for good when asked about a positive outline of a non-civilized life.\n",
      "\n",
      "\n",
      "Not only that, for example, in an environment in which almost every big game has been exterminated or the remaining herds - at least without civilizational management - are on the verge of extinction, the customs of \"primitive\" hunter communities even in the face of one in ruins lying civilization are of relatively little use. With the uniformity of these customs often invoked today, I also seem to run the risk of adopting customs distilled from a completely abstracted, economized [1] perspective, which - in this way, robbed of their connections, for example, a spiritual connection to nature, etc. - would never work anyway. But if this model of the \"primitive\" is not able to give me anything for my own life, why should I orientate myself towards it? Why systematize it and reconcile the unique, different stories from far apart regions as well as ages?\n",
      "\n",
      "\n",
      "Sometimes such an attempt at systematization seems to me to be a kind of scientific neurosis. No wonder, like many others, I am used to generalizing stories that give me something and occasionally catch myself presenting contradicting stories almost obsessively to myself as implausible. I think beyond what one can perhaps learn about oneself in the process, there is no particular problem in such a purely individual systematization. Occasionally, especially in scientific analyzes and debates that rely particularly heavily on them, it seems to me that there is a little more lurking behind such a systematization. Wherever suggestions are made as to how we could systematically \"restore\" the whole world to a state that resembles the \"original\" state that (idealized) \"primitive\" societies would have found, there, in my opinion, a certain one begins To develop the logic of civilization, namely that of the complete organization of the whole world and its orientation towards a unified goal. And even if the currently emerging, planned reorganization of the world through the \"green wing\" of capital certainly looks very different from what some proponents of a reformist \"primitivization\" of society may have imagined, it seems the resemblance to be somehow striking to me.\n",
      "\n",
      "\n",
      "Such tendencies seem to me to be based primarily on the fact that stories about primitive societies are systematized and woven into a primitive ideal, which in turn is supposed to serve as a blueprint for a post-civilized world. Instead of aligning my actions with such an ideal, it seems more sensible to me to start from my own condition, my individual possibilities and longings. Instead of measuring my actions by the extent to which they contribute to an (eternally) future ideal, I want to passionately pursue my longings, freed from the fetters of my domestication, in the here and now, want to destroy what restricts me in them and possibly also this or that remnant benefit civilization. Not in the form, of course, that follows the dictates of civilization itself and reproduces it, but always with a view to preserving or restoring my freedom and that of others and to destroy hierarchies and oppression.\n",
      "\n",
      "IV\n",
      "\n",
      "For many anti-civilizational critics, the notion that the system is collapsing has been one of the cornerstones of their analysis for years. And in view of nuclear waste, arsenals that could destroy the earth several times, dwindling arable land, oil reserves, rainforests, and rising CO2, who can blame them for predicting a collapse of the system. By the way, they are by no means alone. Even system-supporting institutions such as the Club of Rome have been marketing the idea of ​​an approaching apocalypse through the limits of growth for decades with some success. And in fact, the ideas of collapse of some anti-civilization critics hardly differ in detail from those of these doomsday prophets on behalf of \"green\" capital. Who has copied from whom can often no longer be fully explained today, but one thing is certain: The doomsday prophets of capital do not look forward to the collapse they have systematized in joyful anticipation, but rather deal with the techno-industrial system during this to keep decay alive. Their assessments have been considered for years at international military security summits and serve as a blueprint for new counterinsurgency strategies.\n",
      "\n",
      "\n",
      "All of this can certainly not be blamed for anti-civilizational collapse ideas. On the contrary: While the oracles of civilization and capital have advised governments, companies, and other civilizational warlords for decades on how to prepare for such a collapse - by the way, the most recent of these campaigns, the so-called Global Reset or Great Reset are interpreted in this way - the anti-civilizing seers of this collapse have remained astonishingly passive. If you disregard mostly institutionalized and often commercially marketed survival courses, the strategies for acting in such a collapse seem astonishingly hollowed out to me. Those who otherwise criticize the hoarding of food as a basic condition for the emergence of civilization develop surprisingly often, who suspects it, the hoarding of food as the most important perspective with regard to such a collapse. I don't want to be misunderstood here: Especially within nature, which is rugged by civilization, survival in the event of a collapse of civilization and its food production only appears possible thanks to food supplies. Accordingly, my criticism is not directed against the creation of food supplies per se, but rather against the fact that such a project quickly becomes the only perspective that lets any active attack on civilization die out in the here and now.\n",
      "\n",
      "\n",
      "Because even if a discussion about strategies in such a collapse scenario certainly has its value, above all I have the feeling that too narrow a focus on a collapse is nothing more than a driver of passivity. Anyone who always aligns their own actions with what may happen in the future is pledging their own life in the present to this future. When I try to imagine what it must be like to wait for decades for civilization to finally collapse and then finally to lead a life according to my own desires, the only keyword that comes to mind is unsatisfactory! And the most important question seems to be there: Why wait? As a declared enemy, why should I wait in civilization until it one day (perhaps) abolishes itself because it collapses? Wouldn't it be much more satisfying, much less passive, and much more compatible with living my desires if I instead looked for ways to destroy civilization? And does a destroyed civilization increase the chance of a life beyond civilization immensely in comparison to a collapsed civilization that previously completely exploited or destroyed all \"resources\", that is, all nature?\n",
      "\n",
      "\n",
      "Regardless of the fact that I want to live now and do not want to direct all my hopes for a life according to my own longings towards an indefinite future that I can hardly influence, a collapse of civilization actually seems relatively unlikely to me. On the one hand, it can almost always be said of the collapsed civilizations of the past that they were devoured by another, expanding civilization instead of simply falling apart. On the other hand, it can be observed, especially in the last few decades, that the apparatus that perhaps \"Western civilization\" could be called, is making enormous efforts to prevent a collapse due to limited resources. And by that, I don't just mean the ludicrous notions of expansion into the vastness of space that are being pursued more vigorously than ever before. I also mean what an economic and scientific elite is currently selling as the \"pandemic opportunity\": the organized reduction of resource consumption through the mere administration of people in the future while at the same time restricting what has been euphemistically termed \"freedoms\" up to now and their pacification with the help of technology.\n",
      "\n",
      "\n",
      "Either way: Anyone who puts all their hopes on the fact that the techno-industrial system will collapse on its own in the near (or distant) future seems, in my opinion, to tend to take on the role of a passive observer and thereby deprive oneself of one's own scope of action. Instead of shifting my longings into the future in this way, I want to live them now. Instead of waiting for a system to collapse and preparing for the brutal war for survival that follows - in which the most destructive weapons are still in the hands of my enemies (military, cops, politicians, etc.), it seems to me much more interesting to look for ways to sabotage and attack the techno-industrial system here and now, so that it ultimately collapses less than is destroyed to its foundations by a voluntary act.\n",
      "\n",
      "V\n",
      "\n",
      "One of the greatest successes of the idea of ​​(linear) time must be accounted for that progressiveness and progressivity, in common parlance, stands for a development that is viewed as positive, while regression and regressivity denotes a development that is viewed more negatively. You want to move forward, step by step towards a goal. A step backwards? A disaster! To stand still? Waste of time. One step aside? Unthinkable. Progress or regression, there doesn't seem to be anything else. And where his entire history is arranged on a timeline that brings events, which at times could hardly have less to do with each other, in a common chronology, which in turn in the various schools of thought of progress (capitalism, Marxism, liberalism, etc.) be interpreted that progress is not only the only possible, historical-materialistic direction, but that its whole history has inevitably moved towards precisely this moment of the present, then the only non-progressive way out seems to be the hamster wheel of Time to bring it to a standstill, only to then turn it backwards one revolution at a time.\n",
      "\n",
      "\n",
      "But whether progress or regression, whether I turn the hamster wheel forwards or backwards, in any case a certain idea of ​​temporality seems to hold me captive and (at least in my mind) to determine in advance what my life and its circumstances should look like. And it is by no means a coincidence that, regardless of where I might like to move on this timeline, turning the clock hands backwards or forwards is not just an effort that requires enormous force, such as can only be mobilized by the institutions of civilization , but also accordingly not only my life, but that of everyone within civilization. One could - and should even - describe the act of turning the clock (no matter whether forwards or backwards) as an act of civilization, because it would be nothing more than the organization of (human) living beings in an artificial, in itself lifeless monster, that through them brought to life, would set the clock hands in motion and thereby determine the course of all humanity, civilization, the earth (the universe?).\n",
      "\n",
      "\n",
      "The concept of time that is widespread today as an independent, absolute, universal, strictly linear institution developed parallel to the emergence of modern science and the so-called \"industrial revolution\" [2], which also ran parallel to it. Not only Galileo Galilei, Isaac Newton, and many other early exponents of this development had an obsession with time. Their current spiritual successors also maintain an almost obsessive relationship with this institution. Amazon founder Jeff Bezos, for example, a global leader in degrading people to robots in his company's logistics centers (something that recalls certain statements made by the forefathers of modern science), is currently building a pilgrimage site for contemporary believers in a mountain in West Texas: a gigantic clock that will measure time for the next 10,000 years. His main motivation for this project may surprise one or the other: “As I see it, humans are now technologically advanced enough that we can create not only extraordinary wonders but also civilization-scale problems. We're likely to need more long-term thinking.\"[3] The clock is a symbol of long-term planning, or in other words: temporality and long-term planning/organization as one of the fundamental dimensions of civilization.\n",
      "\n",
      "\n",
      "Where the transhumanist and technology enthusiast Jeff Bezos undoubtedly means advanced planning and technological development, retrograde planning and technological re-development hardly seem to mean anything else. Technically, only a minimal change is required, such as adding or removing a gear to make a clock run backwards instead of forwards. But what would that change? Today, the watch synchronizes the civilizing efforts of an army of slave workers, meticulously and to the second from the wrist of its owner or, more recently, from the inside of their smartphones. To take possession of this instrument and from now on let time run backwards in an attempt to organize civilization away seems to me to be following a fundamental misinterpretation of this process. Isn't it the synchronization itself that defines civilization, less the direction in which it takes place? De-synchronization, on the other hand, appears to me only through the total abandonment of a certain course, through the complete destruction of the synchronization mechanisms of the temporal and the resulting chaotic and consequently by no means absolute or universal course of time - if one can then still speak of temporality at all - to be possible.\n",
      "\n",
      "\n",
      " ***\n",
      "\n",
      "\n",
      "These fragments of a critique of some widespread aspects of anti-civilizational thought in no way open up a new way out. Rather, they can be understood as a (albeit superficial) commentary on existing approaches and thus as a starting point for a renewed debate about strategies, analysis, and perspectives that may still be held.\n",
      "\n",
      "[1] A somewhat amusing example: Recently someone told me about an ERoI (Energy Return on Investment) from hunter/gatherer communities and that this is very high compared to civilized societies. I still have to smile a bit about that today. Not because that may not be true from a (today's) economic perspective, but rather because I have to imagine how one tries to explain to a member of such a hunter/gatherer community that one is because of their way of life I admire this high ERoI and (presumably) will encounter no understanding at all. In fact, it cannot be said that the person who told me about this ERoI would consider an (abstract or specific) \"primitive\" way of life in purely economic terms; investigated \"primitive\" societies and yet it seems to me to be the expression of a perspective that must have already eliminated all individuality, as well as all unique characteristics of a community, in order to be able to reach such a statement at all.\n",
      "\n",
      "[2] An interesting treatise on this development of time can be found, for example, in John Zerzan: The Unease of Time.\n",
      "\n",
      "[3] Direct quote: \"The way I see it, people are now technologically advanced enough not only to perform extraordinary miracles, but also to cause problems on a civilizational scale. So we have to think long-term.\"\n",
      "\n",
      "\n",
      "\n",
      "\n",
      "\n",
      "    https://zuendlumpen.noblogs.org/post/2021/02/07/irrlichter/\n",
      "    \n",
      "\n",
      "    This writing appeared in the German anarchist journal Zündlumpen, or Ignition Rags. Translated by Maelstrom in 2021.\n",
      "    \n",
      "\n",
      "\n",
      "\n",
      "\n",
      "\n"
     ]
    }
   ],
   "source": [
    "#first_small_doc\n",
    "#print(first_small_doc)\n",
    "#print(second_small_doc)\n",
    "\n",
    "#calling it by itself shows a bunch of line breaks and formatting junk\n",
    "#printing it makes it all nice and pretty and readable"
   ]
  },
  {
   "cell_type": "code",
   "execution_count": 48,
   "metadata": {},
   "outputs": [
    {
     "data": {
      "text/plain": [
       "2"
      ]
     },
     "execution_count": 48,
     "metadata": {},
     "output_type": "execute_result"
    }
   ],
   "source": [
    "docs = []\n",
    "docs.append(first_small_doc)\n",
    "docs.append(second_small_doc)\n",
    "len(docs)"
   ]
  },
  {
   "cell_type": "code",
   "execution_count": 49,
   "metadata": {},
   "outputs": [],
   "source": [
    "#tokenize\n",
    "tokenizer = TreebankWordTokenizer()\n",
    "docs_tokenized = []\n",
    "for doc in docs:\n",
    "    docs_tokenized.append(tokenizer.tokenize(doc))\n"
   ]
  },
  {
   "cell_type": "code",
   "execution_count": 50,
   "metadata": {},
   "outputs": [
    {
     "name": "stdout",
     "output_type": "stream",
     "text": [
      "2\n"
     ]
    }
   ],
   "source": [
    "print(len(docs_tokenized))"
   ]
  },
  {
   "cell_type": "code",
   "execution_count": 56,
   "metadata": {},
   "outputs": [],
   "source": [
    "#build skipgram model\n",
    "model_sg = Word2Vec(sentences=docs_tokenized, window=5, min_count=3, workers=4, epochs=5, sg=1)"
   ]
  },
  {
   "cell_type": "code",
   "execution_count": 60,
   "metadata": {},
   "outputs": [
    {
     "data": {
      "text/plain": [
       "[('into', 0.9976146817207336),\n",
       " ('through', 0.9974856376647949),\n",
       " ('person', 0.997462272644043),\n",
       " ('it', 0.9974349141120911),\n",
       " ('A', 0.9973915815353394),\n",
       " (\"n't\", 0.9973607659339905),\n",
       " ('now', 0.9973583817481995),\n",
       " ('anti-civilizational', 0.9973471164703369),\n",
       " ('was', 0.99733567237854),\n",
       " ('backwards', 0.9973354339599609)]"
      ]
     },
     "execution_count": 60,
     "metadata": {},
     "output_type": "execute_result"
    }
   ],
   "source": [
    "model_sg.wv.most_similar('media', topn=10)"
   ]
  },
  {
   "cell_type": "code",
   "execution_count": 61,
   "metadata": {},
   "outputs": [],
   "source": [
    "#build CBOW model\n",
    "model_cbow = Word2Vec(sentences=docs_tokenized, window=5, min_count=3, workers=4, epochs=5, sg=0)"
   ]
  },
  {
   "cell_type": "code",
   "execution_count": 62,
   "metadata": {},
   "outputs": [
    {
     "data": {
      "text/plain": [
       "[('through', 0.9726642370223999),\n",
       " ('into', 0.9719277024269104),\n",
       " (\"n't\", 0.9718241691589355),\n",
       " ('was', 0.9717423915863037),\n",
       " ('also', 0.9716292023658752),\n",
       " (')', 0.9716008305549622),\n",
       " ('it', 0.971388041973114),\n",
       " ('I', 0.9713448286056519),\n",
       " ('(', 0.9712851047515869),\n",
       " ('is', 0.9712598919868469)]"
      ]
     },
     "execution_count": 62,
     "metadata": {},
     "output_type": "execute_result"
    }
   ],
   "source": [
    "model_cbow.wv.most_similar('media', topn=10)"
   ]
  },
  {
   "cell_type": "code",
   "execution_count": null,
   "metadata": {},
   "outputs": [],
   "source": []
  }
 ],
 "metadata": {
  "kernelspec": {
   "display_name": "Python 3",
   "language": "python",
   "name": "python3"
  },
  "language_info": {
   "codemirror_mode": {
    "name": "ipython",
    "version": 3
   },
   "file_extension": ".py",
   "mimetype": "text/x-python",
   "name": "python",
   "nbconvert_exporter": "python",
   "pygments_lexer": "ipython3",
   "version": "3.10.12"
  }
 },
 "nbformat": 4,
 "nbformat_minor": 2
}
